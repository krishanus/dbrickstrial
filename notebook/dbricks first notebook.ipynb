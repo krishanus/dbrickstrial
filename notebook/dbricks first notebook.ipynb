{
 "cells": [
  {
   "cell_type": "code",
   "execution_count": 0,
   "metadata": {
    "application/vnd.databricks.v1+cell": {
     "cellMetadata": {
      "byteLimit": 2048000,
      "implicitDf": true,
      "rowLimit": 10000
     },
     "inputWidgets": {},
     "nuid": "42dea7c2-85aa-4187-90b8-fc5806a42f89",
     "showTitle": true,
     "title": "Trial"
    }
   },
   "outputs": [],
   "source": [
    "print(\"I'm on databricks trial - running Python!\")"
   ]
  },
  {
   "cell_type": "code",
   "execution_count": 0,
   "metadata": {
    "application/vnd.databricks.v1+cell": {
     "cellMetadata": {
      "byteLimit": 2048000,
      "rowLimit": 10000
     },
     "inputWidgets": {},
     "nuid": "54aaab0b-a4f7-416c-abbd-161775ddbfae",
     "showTitle": false,
     "title": ""
    }
   },
   "outputs": [],
   "source": []
  }
 ],
 "metadata": {
  "application/vnd.databricks.v1+notebook": {
   "dashboards": [],
   "language": "python",
   "notebookMetadata": {
    "mostRecentlyExecutedCommandWithImplicitDF": {
     "commandId": -1,
     "dataframes": [
      "_sqldf"
     ]
    },
    "pythonIndentUnit": 4
   },
   "notebookName": "dbricks first notebook",
   "notebookOrigID": 3282056728107905,
   "widgets": {}
  }
 },
 "nbformat": 4,
 "nbformat_minor": 0
}
